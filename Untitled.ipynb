{
 "cells": [
  {
   "cell_type": "code",
   "execution_count": 9,
   "id": "d7aff64b",
   "metadata": {},
   "outputs": [
    {
     "name": "stdout",
     "output_type": "stream",
     "text": [
      "/opt/homebrew/Caskroom/miniforge/base/envs/tensorflow/lib/python3.9/site-packages/tensorflow_addons/utils/ensure_tf_install.py:53: UserWarning: Tensorflow Addons supports using Python ops for all Tensorflow versions above or equal to 2.6.0 and strictly below 2.9.0 (nightly versions are not supported). \n",
      " The versions of TensorFlow you are currently using is 2.5.0 and is not supported. \n",
      "Some things might work, some things might not.\n",
      "If you were to encounter a bug, do not file an issue.\n",
      "If you want to make sure you're using a tested and supported configuration, either change the TensorFlow version or the TensorFlow Addons's version. \n",
      "You can find the compatibility matrix in TensorFlow Addon's readme:\n",
      "https://github.com/tensorflow/addons\n",
      "  warnings.warn(\n",
      "loading annotations into memory...\n",
      "Done (t=8.14s)\n",
      "creating index...\n",
      "index created!\n",
      "2022-05-11 15:46:57.003351: W tensorflow/core/platform/cloud/google_auth_provider.cc:184] All attempts to get a Google authentication bearer token failed, returning an empty token. Retrieving token from files failed with \"Not found: Could not locate the credentials file.\". Retrieving token from GCE failed with \"Failed precondition: Error executing an HTTP request: libcurl code 6 meaning 'Couldn't resolve host name', error details: Could not resolve host: metadata\".\n",
      "loading annotations into memory...\n",
      "Done (t=0.26s)\n",
      "creating index...\n",
      "index created!\n",
      "2022-05-11 15:46:57.769902: I tensorflow/compiler/mlir/mlir_graph_optimization_pass.cc:176] None of the MLIR Optimization Passes are enabled (registered 2)\n",
      "2022-05-11 15:46:57.771038: W tensorflow/core/platform/profile_utils/cpu_utils.cc:128] Failed to get CPU frequency: 0 Hz\n",
      "<module 'tensorflow.keras.applications.resnet50' from '/opt/homebrew/Caskroom/miniforge/base/envs/tensorflow/lib/python3.9/site-packages/tensorflow/keras/applications/resnet50/__init__.py'>\n",
      "Downloading data from https://storage.googleapis.com/tensorflow/keras-applications/resnet/resnet50_weights_tf_dim_ordering_tf_kernels_notop.h5\n",
      "94773248/94765736 [==============================] - 3s 0us/step\n",
      "[[[12007013. 12007018. 12007020. ... 12007011. 12007014. 12007014.]\n",
      "  [12007015. 12007014. 12007024. ... 12007013. 12007014. 12007013.]\n",
      "  [12007014. 12007014. 12007019. ... 12007011. 12007014. 12007015.]\n",
      "  ...\n",
      "  [12007013. 12007014. 12007023. ... 12007011. 12007013. 12007016.]\n",
      "  [12007014. 12007013. 12007021. ... 12007012. 12007014. 12007015.]\n",
      "  [12007012. 12007013. 12007022. ... 12007013. 12007014. 12007014.]]\n",
      "\n",
      " [[12007013. 12007015. 12007022. ... 12007012. 12007014. 12007013.]\n",
      "  [12007017. 12007013. 12007019. ... 12007013. 12007014. 12007015.]\n",
      "  [12007012. 12007014. 12007023. ... 12007011. 12007016. 12007014.]\n",
      "  ...\n",
      "  [12007013. 12007016. 12007022. ... 12007012. 12007015. 12007014.]\n",
      "  [12007013. 12007019. 12007020. ... 12007011. 12007012. 12007016.]\n",
      "  [12007013. 12007018. 12007022. ... 12007012. 12007013. 12007016.]]\n",
      "\n",
      " [[12007013. 12007015. 12007020. ... 12007012. 12007016. 12007013.]\n",
      "  [12007011. 12007015. 12007020. ... 12007012. 12007012. 12007019.]\n",
      "  [12007013. 12007017. 12007019. ... 12007011. 12007012. 12007014.]\n",
      "  ...\n",
      "  [12007015. 12007017. 12007025. ... 12007012. 12007013. 12007014.]\n",
      "  [12007013. 12007013. 12007018. ... 12007011. 12007014. 12007016.]\n",
      "  [12007011. 12007018. 12007019. ... 12007011. 12007013. 12007014.]]\n",
      "\n",
      " ...\n",
      "\n",
      " [[12007013. 12007014. 12007021. ... 12007012. 12007013. 12007013.]\n",
      "  [12007018. 12007016. 12007017. ... 12007011. 12007013. 12007015.]\n",
      "  [12007013. 12007014. 12007019. ... 12007013. 12007015. 12007015.]\n",
      "  ...\n",
      "  [12007015. 12007014. 12007020. ... 12007012. 12007013. 12007015.]\n",
      "  [12007013. 12007015. 12007023. ... 12007011. 12007013. 12007015.]\n",
      "  [12007013. 12007016. 12007019. ... 12007011. 12007014. 12007015.]]\n",
      "\n",
      " [[12007013. 12007016. 12007022. ... 12007012. 12007015. 12007015.]\n",
      "  [12007017. 12007017. 12007021. ... 12007012. 12007015. 12007012.]\n",
      "  [12007013. 12007017. 12007022. ... 12007013. 12007013. 12007015.]\n",
      "  ...\n",
      "  [12007012. 12007019. 12007024. ... 12007012. 12007012. 12007015.]\n",
      "  [12007013. 12007016. 12007021. ... 12007013. 12007013. 12007013.]\n",
      "  [12007018. 12007015. 12007019. ... 12007011. 12007015. 12007015.]]\n",
      "\n",
      " [[12007013. 12007016. 12007023. ... 12007011. 12007014. 12007015.]\n",
      "  [12007018. 12007018. 12007024. ... 12007011. 12007014. 12007014.]\n",
      "  [12007013. 12007013. 12007023. ... 12007011. 12007012. 12007016.]\n",
      "  ...\n",
      "  [12007013. 12007014. 12007018. ... 12007012. 12007015. 12007014.]\n",
      "  [12007013. 12007016. 12007019. ... 12007012. 12007012. 12007014.]\n",
      "  [12007013. 12007015. 12007019. ... 12007011. 12007016. 12007016.]]]\n",
      "Traceback (most recent call last):\n",
      "  File \"/Users/ziftikha/Documents/DeepLearning/Transformers/main.py\", line 147, in <module>\n",
      "    main(args)\n",
      "  File \"/Users/ziftikha/Documents/DeepLearning/Transformers/main.py\", line 136, in main\n",
      "    train_one_epoch(model, criterion, optimizers, img, box, label)\n",
      "  File \"/Users/ziftikha/Documents/DeepLearning/Transformers/engine.py\", line 30, in train_one_epoch\n",
      "    if not math.isfinite(loss_value):\n",
      "TypeError: only size-1 arrays can be converted to Python scalars\n"
     ]
    }
   ],
   "source": [
    "!python3 main.py --batch_size 10 --coco_path data"
   ]
  },
  {
   "cell_type": "code",
   "execution_count": null,
   "id": "dcbf3032",
   "metadata": {},
   "outputs": [],
   "source": []
  }
 ],
 "metadata": {
  "kernelspec": {
   "display_name": "Python 3 (ipykernel)",
   "language": "python",
   "name": "python3"
  },
  "language_info": {
   "codemirror_mode": {
    "name": "ipython",
    "version": 3
   },
   "file_extension": ".py",
   "mimetype": "text/x-python",
   "name": "python",
   "nbconvert_exporter": "python",
   "pygments_lexer": "ipython3",
   "version": "3.9.10"
  }
 },
 "nbformat": 4,
 "nbformat_minor": 5
}
